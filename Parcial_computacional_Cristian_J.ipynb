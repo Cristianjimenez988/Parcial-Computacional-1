{
  "nbformat": 4,
  "nbformat_minor": 0,
  "metadata": {
    "colab": {
      "provenance": [],
      "toc_visible": true,
      "authorship_tag": "ABX9TyMNfwmdj4Ac5f6wuuZ1W4n/",
      "include_colab_link": true
    },
    "kernelspec": {
      "name": "python3",
      "display_name": "Python 3"
    },
    "language_info": {
      "name": "python"
    }
  },
  "cells": [
    {
      "cell_type": "markdown",
      "metadata": {
        "id": "view-in-github",
        "colab_type": "text"
      },
      "source": [
        "<a href=\"https://colab.research.google.com/github/Cristianjimenez988/Parcial-Computacional-1/blob/main/Parcial_computacional_Cristian_J.ipynb\" target=\"_parent\"><img src=\"https://colab.research.google.com/assets/colab-badge.svg\" alt=\"Open In Colab\"/></a>"
      ]
    },
    {
      "cell_type": "markdown",
      "source": [],
      "metadata": {
        "id": "ZvQ1QLOHAddS"
      }
    },
    {
      "cell_type": "markdown",
      "source": [
        "1. Función para calcular la molaridad de una solución\n",
        "M= Gramos/peso molecular x volumen en litros\n",
        "\n"
      ],
      "metadata": {
        "id": "X23s950palY2"
      }
    },
    {
      "cell_type": "code",
      "source": [
        "from google.colab import drive\n",
        "drive.mount('/content/drive')"
      ],
      "metadata": {
        "id": "7IbYovzoBsIi"
      },
      "execution_count": null,
      "outputs": []
    },
    {
      "cell_type": "code",
      "execution_count": null,
      "metadata": {
        "id": "cF0qolHjaeYL"
      },
      "outputs": [],
      "source": [
        "def calcular_molaridad(gramos, peso_molecular, volumen_litros):\n",
        "  molaridad = (gramos / peso_molecular) * volumen_litros\n",
        "  return molaridad\n"
      ]
    },
    {
      "cell_type": "code",
      "source": [
        "gramos=6\n",
        "volumen_litros=0.6\n",
        "peso_molecular=18\n",
        "molaridad=calcular_molaridad(gramos,peso_molecular,volumen_litros)\n",
        "print(molaridad)\n",
        "\n"
      ],
      "metadata": {
        "colab": {
          "base_uri": "https://localhost:8080/"
        },
        "id": "GyJH5iokdIXo",
        "outputId": "ed5f2649-7cf1-4bf0-a2fa-e379cacdd22a"
      },
      "execution_count": null,
      "outputs": [
        {
          "output_type": "stream",
          "name": "stdout",
          "text": [
            "0.5555555555555556\n"
          ]
        }
      ]
    },
    {
      "cell_type": "markdown",
      "source": [
        "2. Función para calcular el pH de una solución de ácido fuerte:\n",
        "pH= -log10 (concentración sw iones de hidrógeno)"
      ],
      "metadata": {
        "id": "q6ggIw-Bd47C"
      }
    },
    {
      "cell_type": "code",
      "source": [
        "import math\n",
        "def calcular_pH(concentracion_hidrogeno):\n",
        "  pH=-math.log10(concentracion_hidrogeno)\n",
        "  return pH\n",
        "concentracion_hidrogeno = 0.005\n",
        "print(f\"pH:{calcular_pH(concentracion_hidrogeno)}\")\n"
      ],
      "metadata": {
        "colab": {
          "base_uri": "https://localhost:8080/"
        },
        "id": "SMxCSoMHebGX",
        "outputId": "8df2ce27-4316-4663-d1ee-bbf444b49033"
      },
      "execution_count": null,
      "outputs": [
        {
          "output_type": "stream",
          "name": "stdout",
          "text": [
            "pH:2.3010299956639813\n"
          ]
        }
      ]
    },
    {
      "cell_type": "markdown",
      "source": [
        "3. Función para calcular la masa molar de un gas ideal\n",
        "M=(g*R*T)/(p*V)"
      ],
      "metadata": {
        "id": "QflniAsGhCUS"
      }
    },
    {
      "cell_type": "code",
      "source": [
        "def calcular_masa_molar_gas(gr, volumen_ml, temperatura_c, presion_atm):\n",
        "    R = 0.0821\n",
        "    temperatura_k = temperatura_c + 273.15\n",
        "    volumen_litros = volumen_ml / 1000\n",
        "    masa_molar = (gr * R * temperatura_k) / (presion_atm * volumen_litros)\n",
        "    return masa_molar\n",
        "    gr = 12\n",
        "volumen_ml = 1000\n",
        "temperatura_c = 23\n",
        "presion_atm = 1.5\n",
        "print(f\"Masa molar del gas: {calcular_masa_molar_gas(gramos,volumen_ml, temperatura_c, presion_atm)} g/mol\")"
      ],
      "metadata": {
        "colab": {
          "base_uri": "https://localhost:8080/"
        },
        "id": "aS04Vg0UhXPv",
        "outputId": "1d44e226-ce52-4070-caf0-79ce56c602e6"
      },
      "execution_count": null,
      "outputs": [
        {
          "output_type": "stream",
          "name": "stdout",
          "text": [
            "Masa molar del gas: 97.25565999999999 g/mol\n"
          ]
        }
      ]
    },
    {
      "cell_type": "markdown",
      "source": [
        "4. Función para calcular las concentraciones del ácido y base conjugada en un tampón\n",
        "pH=pKa+log([Base conjugada]/[Ácido])"
      ],
      "metadata": {
        "id": "jSMG1OLyiTvf"
      }
    },
    {
      "cell_type": "code",
      "source": [
        "def calcular_concentraciones_buffer(ph_deseado, pka, volumen_litros):\n",
        "    ratio = 10 ** (ph_deseado - pka)\n",
        "    acido = volumen_litros / (1 + ratio)\n",
        "    base_conjugada = acido * ratio\n",
        "    return acido, base_conjugada\n",
        "\n",
        "ph_deseado = 6.0\n",
        "pka = 4.6\n",
        "volumen_litros = 1000\n",
        "\n",
        "\n",
        "acido, base_conjugada = calcular_concentraciones_buffer(ph_deseado, pka, volumen_litros)\n",
        "print(f\"Concentración de ácido: {acido:.4f} M\")\n",
        "print(f\"Concentración de base conjugada: {base_conjugada:.4f} M\")\n"
      ],
      "metadata": {
        "colab": {
          "base_uri": "https://localhost:8080/"
        },
        "id": "Lw2VtLI6kcaM",
        "outputId": "27dad889-5c42-4be7-98f4-9adc2adecac7"
      },
      "execution_count": null,
      "outputs": [
        {
          "output_type": "stream",
          "name": "stdout",
          "text": [
            "Concentración de ácido: 38.2865 M\n",
            "Concentración de base conjugada: 961.7135 M\n"
          ]
        }
      ]
    },
    {
      "cell_type": "markdown",
      "source": [
        "5. Función para calcular la energía liberada en una reacción química.\n",
        "q=m*C*ΔT"
      ],
      "metadata": {
        "id": "skTRU5cBo3Xn"
      }
    },
    {
      "cell_type": "code",
      "source": [
        "def calcular_energia_liberada(masa, calor_especifico, delta_t):\n",
        "    energia = masa * calor_especifico * delta_t\n",
        "    return energia\n",
        "\n",
        "masa = 15\n",
        "calor_especifico = 5.18\n",
        "delta_t = 12\n",
        "print(f\"Energía liberada: {calcular_energia_liberada(masa, calor_especifico, delta_t)} J\")\n"
      ],
      "metadata": {
        "colab": {
          "base_uri": "https://localhost:8080/"
        },
        "id": "qrY7mA8824bb",
        "outputId": "eec98719-5314-40c8-bdb8-7c352447c169"
      },
      "execution_count": null,
      "outputs": [
        {
          "output_type": "stream",
          "name": "stdout",
          "text": [
            "Energía liberada: 932.3999999999999 J\n"
          ]
        }
      ]
    },
    {
      "cell_type": "markdown",
      "source": [
        "6. Función para calcular el rendimiento porcentual\n",
        "Rendimiento % = (masa experimental/masa teórica)*100"
      ],
      "metadata": {
        "id": "HkdwP0rg3HIl"
      }
    },
    {
      "cell_type": "code",
      "source": [
        "def calcular_rendimiento(masa_teorica, masa_experimental):\n",
        "    rendimiento = (masa_experimental / masa_teorica) * 100\n",
        "    return rendimiento\n",
        "\n",
        "masa_teorica = 24\n",
        "masa_experimental = 22\n",
        "print(f\"Rendimiento porcentual: {calcular_rendimiento(masa_teorica, masa_experimental)}%\")\n"
      ],
      "metadata": {
        "colab": {
          "base_uri": "https://localhost:8080/"
        },
        "id": "A3-TKXBR3iT6",
        "outputId": "aed2c073-4e0a-469a-9435-82c7a286960d"
      },
      "execution_count": null,
      "outputs": [
        {
          "output_type": "stream",
          "name": "stdout",
          "text": [
            "Rendimiento porcentual: 91.66666666666666%\n"
          ]
        }
      ]
    },
    {
      "cell_type": "markdown",
      "source": [
        "7. Función para calcular el calor específico\n",
        "C=q/m*ΔT"
      ],
      "metadata": {
        "id": "wstwW4Zk3tnz"
      }
    },
    {
      "cell_type": "code",
      "source": [
        "def calcular_calor_especifico(q, masa, delta_t):\n",
        "    calor_especifico = q / (masa * delta_t)\n",
        "    return calor_especifico\n",
        "\n",
        "q = 200\n",
        "masa = 20\n",
        "delta_t = 30\n",
        "print(f\"Calor específico: {calcular_calor_especifico(q, masa, delta_t)} J/g°C\")\n"
      ],
      "metadata": {
        "colab": {
          "base_uri": "https://localhost:8080/"
        },
        "id": "ZtasB3W04GHa",
        "outputId": "82b2e2a4-8875-47a3-be24-43d97059e064"
      },
      "execution_count": null,
      "outputs": [
        {
          "output_type": "stream",
          "name": "stdout",
          "text": [
            "Calor específico: 0.3333333333333333 J/g°C\n"
          ]
        }
      ]
    },
    {
      "cell_type": "markdown",
      "source": [
        "8. Función para calcular la presión osmótica a 25 °C\n",
        "π=M*R*T"
      ],
      "metadata": {
        "id": "Dv-9D6fa4O1g"
      }
    },
    {
      "cell_type": "code",
      "source": [
        "def calcular_presion_osmotica(concentracion, temperatura_c):\n",
        "    R = 0.0821\n",
        "    temperatura_k = temperatura_c + 273.15\n",
        "    presion_osmotica = concentracion * R * temperatura_k\n",
        "    return presion_osmotica\n",
        "\n",
        "\n",
        "concentracion = 0.5\n",
        "temperatura_c = 22\n",
        "print(f\"Presión osmótica: {calcular_presion_osmotica(concentracion, temperatura_c)} atm\")\n"
      ],
      "metadata": {
        "colab": {
          "base_uri": "https://localhost:8080/"
        },
        "id": "jL3VPnHr4x7O",
        "outputId": "395cf046-5a38-4622-f343-15c6acee97ab"
      },
      "execution_count": null,
      "outputs": [
        {
          "output_type": "stream",
          "name": "stdout",
          "text": [
            "Presión osmótica: 12.1159075 atm\n"
          ]
        }
      ]
    },
    {
      "cell_type": "markdown",
      "source": [
        "9. Funcion para calcular la solubilidad de una sal insoluble.\n",
        "Kps= s2\n",
        "\n"
      ],
      "metadata": {
        "id": "9vqBc1vT438I"
      }
    },
    {
      "cell_type": "code",
      "source": [
        "def calcular_kps(solubilidad):\n",
        "    kps = solubilidad ** 2\n",
        "    return kps\n",
        "\n",
        "solubilidad = 0.05\n",
        "print(f\"Kps: {calcular_kps(solubilidad)}\")\n"
      ],
      "metadata": {
        "colab": {
          "base_uri": "https://localhost:8080/"
        },
        "id": "Jz8hzyUJ5ZkE",
        "outputId": "274d9e7c-88b0-402c-dfcf-84d12eadb73a"
      },
      "execution_count": null,
      "outputs": [
        {
          "output_type": "stream",
          "name": "stdout",
          "text": [
            "Kps: 0.0025000000000000005\n"
          ]
        }
      ]
    },
    {
      "cell_type": "markdown",
      "source": [
        "10. Funcion para plantear un problema y *solución*"
      ],
      "metadata": {
        "id": "np2k0Dea5end"
      }
    },
    {
      "cell_type": "code",
      "source": [
        "import numpy as np\n",
        "import matplotlib.pyplot as plt\n",
        "\n",
        "def graficar_proceso_isotermico(temperatura, n_moles):\n",
        "    R = 0.0821\n",
        "    volumen = np.linspace(0.1, 10, 100)\n",
        "    presion = (n_moles * R * temperatura) / volumen\n",
        "\n",
        "    plt.plot(volumen, presion)\n",
        "    plt.xlabel('Volumen (L)')\n",
        "    plt.ylabel('Presión (atm)')\n",
        "    plt.title('Proceso isotérmico de un gas ideal')\n",
        "    plt.show()\n",
        "\n",
        "\n",
        "temperatura = 300\n",
        "n_moles = 1\n",
        "graficar_proceso_isotermico(temperatura, n_moles)\n"
      ],
      "metadata": {
        "colab": {
          "base_uri": "https://localhost:8080/",
          "height": 472
        },
        "id": "j2arlSfQ5pq1",
        "outputId": "10a1d885-b648-48f6-ce3c-08dab6469a6f"
      },
      "execution_count": null,
      "outputs": [
        {
          "output_type": "display_data",
          "data": {
            "text/plain": [
              "<Figure size 640x480 with 1 Axes>"
            ],
            "image/png": "[encoded data removed]"
          },
          "metadata": {}
        }
      ]
    },
    {
      "cell_type": "markdown",
      "source": [
        "Otro ejemplo. Vamos a calcular la velocidad de una reacción química"
      ],
      "metadata": {
        "id": "JSjBw7wm6qET"
      }
    },
    {
      "cell_type": "code",
      "source": [
        "import numpy as np\n",
        "import pandas as pd\n",
        "import matplotlib.pyplot as plt\n"
      ],
      "metadata": {
        "id": "pYtHwWbE6tuv"
      },
      "execution_count": null,
      "outputs": []
    },
    {
      "cell_type": "code",
      "source": [
        "\n",
        "k = 0.4\n",
        "A0 = 2.0\n",
        "tiempo = np.linspace(0, 100, 1000)\n",
        "concentracion_A = A0 * np.exp(-k * tiempo)\n",
        "datos = pd.DataFrame({\n",
        "    'Tiempo (s)': tiempo,\n",
        "    '[A] (M)': concentracion_A\n",
        "})\n",
        "\n",
        "plt.figure(figsize=(10, 6))\n",
        "plt.plot(datos['Tiempo (s)'], datos['[A] (M)'], label='[A] en función del tiempo', color='green', linewidth=2)\n",
        "\n",
        "plt.fill_between(datos['Tiempo (s)'], datos['[A] (M)'], color='orange', alpha=0.5)\n",
        "plt.title('Concentración de A en función del tiempo', fontsize=16)\n",
        "plt.xlabel('Tiempo (s)', fontsize=14)\n",
        "plt.ylabel('Concentración de A (M)', fontsize=14)\n",
        "plt.legend()\n",
        "plt.grid(True)\n",
        "plt.show()\n"
      ],
      "metadata": {
        "colab": {
          "base_uri": "https://localhost:8080/",
          "height": 573
        },
        "id": "02JhMi3d60bJ",
        "outputId": "5be18583-b542-4cea-ca11-60eadaf59f54"
      },
      "execution_count": null,
      "outputs": [
        {
          "output_type": "display_data",
          "data": {
            "text/plain": [
              "<Figure size 1000x600 with 1 Axes>"
            ],
            "image/png": "[encoded data removed]"
          },
          "metadata": {}
        }
      ]
    }
  ]
}